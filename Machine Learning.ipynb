{
 "cells": [
  {
   "cell_type": "code",
   "execution_count": null,
   "metadata": {},
   "outputs": [],
   "source": [
    "import pandas as pd\n",
    "import numpy as np\n",
    "\n",
    "# Load the CSV file\n",
    "data = pd.read_csv('./cleaned_merged_course_data.csv')\n",
    "\n",
    "# Convert 'Eksamensgennemsnit' to numeric (replace comma with dot first)\n",
    "data['Eksamensgennemsnit'] = data['Eksamensgennemsnit'].str.replace(',', '.').astype(float)\n",
    "\n",
    "# Ensure the data is sorted by 'Course code', 'Year', and 'Season'\n",
    "data = data.sort_values(by=['Course code', 'Year', 'Season']).reset_index(drop=True)\n",
    "\n",
    "# Define a function to calculate WMA for each group\n",
    "def calculate_wma(group):\n",
    "    wma_values = []\n",
    "    for i in range(len(group)):\n",
    "        if i == 0:\n",
    "            wma_values.append(group['Eksamensgennemsnit'].iloc[i])\n",
    "        else:\n",
    "            weights = group['Fremmødte'].iloc[:i+1]\n",
    "            weighted_gpas = group['Eksamensgennemsnit'].iloc[:i+1] * weights\n",
    "            wma = weighted_gpas.sum() / weights.sum()\n",
    "            wma_values.append(wma)\n",
    "    group['WMA'] = wma_values\n",
    "    return group\n",
    "\n",
    "# Apply the WMA calculation for each course code group\n",
    "data = data.groupby('Course code').apply(calculate_wma)\n",
    "\n",
    "# Save the data as CSV and Excel files\n",
    "csv_file_path = 'cleaned_with_weight.csv'\n",
    "excel_file_path = 'cleaned_with_weight.xlsx'\n",
    "\n",
    "# Save as CSV\n",
    "data.to_csv(csv_file_path, index=False)\n",
    "\n",
    "# Save as Excel\n",
    "data.to_excel(excel_file_path, index=False)\n",
    "\n",
    "# Optionally, print out the head of the dataframe to verify\n",
    "print(data.head())"
   ]
  }
 ],
 "metadata": {
  "language_info": {
   "name": "python"
  }
 },
 "nbformat": 4,
 "nbformat_minor": 2
}
